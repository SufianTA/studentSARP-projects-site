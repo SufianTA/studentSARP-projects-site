{
 "cells": [
  {
   "cell_type": "markdown",
   "id": "1d49e43c",
   "metadata": {},
   "source": [
    "# NASA SARP Comprehensive Python Cheatsheet (week 1)\n",
    "\n",
    "It covers:\n",
    "- Python basics: variables, conditionals, lists, dictionaries\n",
    "- Tabular data using Pandas\n",
    "- Scientific multidimensional data using Xarray\n",
    "- Advanced data handling techniques\n",
    "- NASA/Earth science-specific examples\n"
   ]
  },
  {
   "cell_type": "markdown",
   "id": "0faaf309",
   "metadata": {},
   "source": [
    "## SECTION 1: Python Foundations"
   ]
  },
  {
   "cell_type": "markdown",
   "id": "4215958b",
   "metadata": {},
   "source": [
    "### 🔹 Variables and Data Types"
   ]
  },
  {
   "cell_type": "code",
   "execution_count": 52,
   "id": "ea51e60f",
   "metadata": {},
   "outputs": [
    {
     "name": "stdout",
     "output_type": "stream",
     "text": [
      "Team: SARP, PM2.5: 15.4, Safe? True\n"
     ]
    }
   ],
   "source": [
    "name = \"SARP\"\n",
    "age = 17\n",
    "pm_value = 15.4\n",
    "is_safe = pm_value < 35\n",
    "print(f\"Team: {name}, PM2.5: {pm_value}, Safe? {is_safe}\")"
   ]
  },
  {
   "cell_type": "markdown",
   "id": "3fb78a52",
   "metadata": {},
   "source": [
    "### 🔹 Type Conversion"
   ]
  },
  {
   "cell_type": "code",
   "execution_count": 53,
   "id": "6382763c",
   "metadata": {},
   "outputs": [
    {
     "name": "stdout",
     "output_type": "stream",
     "text": [
      "120\n"
     ]
    }
   ],
   "source": [
    "value = \"100\"\n",
    "value_int = int(value)\n",
    "print(value_int + 20)"
   ]
  },
  {
   "cell_type": "markdown",
   "id": "94745eba",
   "metadata": {},
   "source": [
    "### 🔹 Conditional Statements"
   ]
  },
  {
   "cell_type": "code",
   "execution_count": 54,
   "id": "8439aa1d",
   "metadata": {},
   "outputs": [
    {
     "name": "stdout",
     "output_type": "stream",
     "text": [
      "Warm\n"
     ]
    }
   ],
   "source": [
    "temp = 87\n",
    "if temp > 90:\n",
    "    print(\"Too Hot\")\n",
    "elif temp > 75:\n",
    "    print(\"Warm\")\n",
    "else:\n",
    "    print(\"Mild\")"
   ]
  },
  {
   "cell_type": "markdown",
   "id": "8f721104",
   "metadata": {},
   "source": [
    "### 🔹 Lists and List Operations"
   ]
  },
  {
   "cell_type": "code",
   "execution_count": 55,
   "id": "fd074739",
   "metadata": {},
   "outputs": [
    {
     "name": "stdout",
     "output_type": "stream",
     "text": [
      "['NO2', 'PM2.5', 'O3']\n"
     ]
    }
   ],
   "source": [
    "sensors = [\"NO2\", \"CO\", \"PM2.5\"]\n",
    "sensors.append(\"O3\")\n",
    "sensors.remove(\"CO\")\n",
    "print(sensors)"
   ]
  },
  {
   "cell_type": "markdown",
   "id": "3f1eecf7",
   "metadata": {},
   "source": [
    "### 🔹 Dictionaries and Access"
   ]
  },
  {
   "cell_type": "code",
   "execution_count": 56,
   "id": "5d2ba4e0",
   "metadata": {},
   "outputs": [
    {
     "name": "stdout",
     "output_type": "stream",
     "text": [
      "42.7\n"
     ]
    }
   ],
   "source": [
    "reading = {\n",
    "    \"location\": \"Pasadena\", \n",
    "    \"key2\": 42.7, \n",
    "    \"unit\": \"µg/m³\"\n",
    "}\n",
    "\n",
    "print(reading['key2']) #returns 42.7"
   ]
  },
  {
   "cell_type": "markdown",
   "id": "61ce33dc",
   "metadata": {},
   "source": [
    "## SECTION 2: Tabular Data Analysis with Pandas"
   ]
  },
  {
   "cell_type": "code",
   "execution_count": 57,
   "id": "cc7c7759",
   "metadata": {},
   "outputs": [],
   "source": [
    "import pandas as pd\n",
    "import numpy as np\n",
    "import matplotlib.pyplot as plt\n",
    "import seaborn as sns\n",
    "sns.set(style='whitegrid')"
   ]
  },
  {
   "cell_type": "markdown",
   "id": "a38405fa",
   "metadata": {},
   "source": [
    "### 🔹 Load Titanic Dataset"
   ]
  },
  {
   "cell_type": "code",
   "execution_count": 58,
   "id": "38f4e0a4",
   "metadata": {},
   "outputs": [
    {
     "data": {
      "text/html": [
       "<div>\n",
       "<style scoped>\n",
       "    .dataframe tbody tr th:only-of-type {\n",
       "        vertical-align: middle;\n",
       "    }\n",
       "\n",
       "    .dataframe tbody tr th {\n",
       "        vertical-align: top;\n",
       "    }\n",
       "\n",
       "    .dataframe thead th {\n",
       "        text-align: right;\n",
       "    }\n",
       "</style>\n",
       "<table border=\"1\" class=\"dataframe\">\n",
       "  <thead>\n",
       "    <tr style=\"text-align: right;\">\n",
       "      <th></th>\n",
       "      <th>Name</th>\n",
       "      <th>Column1</th>\n",
       "      <th>Column2</th>\n",
       "      <th>Column3</th>\n",
       "    </tr>\n",
       "  </thead>\n",
       "  <tbody>\n",
       "    <tr>\n",
       "      <th>0</th>\n",
       "      <td>Test</td>\n",
       "      <td>22</td>\n",
       "      <td>123</td>\n",
       "      <td>123</td>\n",
       "    </tr>\n",
       "    <tr>\n",
       "      <th>1</th>\n",
       "      <td>TEst2</td>\n",
       "      <td>2</td>\n",
       "      <td>12</td>\n",
       "      <td>123</td>\n",
       "    </tr>\n",
       "    <tr>\n",
       "      <th>2</th>\n",
       "      <td>Test3</td>\n",
       "      <td>3</td>\n",
       "      <td>421</td>\n",
       "      <td>123</td>\n",
       "    </tr>\n",
       "    <tr>\n",
       "      <th>3</th>\n",
       "      <td>Test4</td>\n",
       "      <td>4</td>\n",
       "      <td>34</td>\n",
       "      <td>34</td>\n",
       "    </tr>\n",
       "  </tbody>\n",
       "</table>\n",
       "</div>"
      ],
      "text/plain": [
       "    Name  Column1  Column2  Column3\n",
       "0   Test       22      123      123\n",
       "1  TEst2        2       12      123\n",
       "2  Test3        3      421      123\n",
       "3  Test4        4       34       34"
      ]
     },
     "execution_count": 58,
     "metadata": {},
     "output_type": "execute_result"
    }
   ],
   "source": [
    "import pandas as pd\n",
    "import numpy as np\n",
    "import matplotlib.pyplot as plt\n",
    "import seaborn as sns\n",
    "sns.set(style='whitegrid')\n",
    "\n",
    "# Example 1: Here we are showing how to import data that is hosted somewhere else\n",
    "# (aka. website such as githubusercontent)\n",
    "url = 'https://raw.githubusercontent.com/mwaskom/seaborn-data/master/titanic.csv'\n",
    "df = pd.read_csv(url)\n",
    "df.head()\n",
    "\n",
    "\n",
    "# Example 2: Here we are showing how to import data that is downloaded locally on your machine\n",
    "df2 = pd.read_csv(\"example.csv\")\n",
    "df2.head()"
   ]
  },
  {
   "cell_type": "markdown",
   "id": "a17510c7",
   "metadata": {},
   "source": [
    "### 🔹 Data Inspection & Summary"
   ]
  },
  {
   "cell_type": "code",
   "execution_count": 59,
   "id": "219ab606",
   "metadata": {},
   "outputs": [
    {
     "name": "stdout",
     "output_type": "stream",
     "text": [
      "<class 'pandas.core.frame.DataFrame'>\n",
      "RangeIndex: 891 entries, 0 to 890\n",
      "Data columns (total 15 columns):\n",
      " #   Column       Non-Null Count  Dtype  \n",
      "---  ------       --------------  -----  \n",
      " 0   survived     891 non-null    int64  \n",
      " 1   pclass       891 non-null    int64  \n",
      " 2   sex          891 non-null    object \n",
      " 3   age          714 non-null    float64\n",
      " 4   sibsp        891 non-null    int64  \n",
      " 5   parch        891 non-null    int64  \n",
      " 6   fare         891 non-null    float64\n",
      " 7   embarked     889 non-null    object \n",
      " 8   class        891 non-null    object \n",
      " 9   who          891 non-null    object \n",
      " 10  adult_male   891 non-null    bool   \n",
      " 11  deck         203 non-null    object \n",
      " 12  embark_town  889 non-null    object \n",
      " 13  alive        891 non-null    object \n",
      " 14  alone        891 non-null    bool   \n",
      "dtypes: bool(2), float64(2), int64(4), object(7)\n",
      "memory usage: 92.4+ KB\n"
     ]
    },
    {
     "data": {
      "text/plain": [
       "survived         0\n",
       "pclass           0\n",
       "sex              0\n",
       "age            177\n",
       "sibsp            0\n",
       "parch            0\n",
       "fare             0\n",
       "embarked         2\n",
       "class            0\n",
       "who              0\n",
       "adult_male       0\n",
       "deck           688\n",
       "embark_town      2\n",
       "alive            0\n",
       "alone            0\n",
       "dtype: int64"
      ]
     },
     "execution_count": 59,
     "metadata": {},
     "output_type": "execute_result"
    }
   ],
   "source": [
    "df.info()\n",
    "df.describe()\n",
    "df.isnull().sum()"
   ]
  },
  {
   "cell_type": "markdown",
   "id": "fa9ef6dc",
   "metadata": {},
   "source": [
    "### 🔹 Handling Missing Data"
   ]
  },
  {
   "cell_type": "code",
   "execution_count": 60,
   "id": "1404cd4a",
   "metadata": {},
   "outputs": [],
   "source": [
    "df['age'] = df['age'].fillna(df['age'].mean())\n",
    "df.dropna(subset=['embarked'], inplace=True)"
   ]
  },
  {
   "cell_type": "markdown",
   "id": "8e32df32",
   "metadata": {},
   "source": [
    "### 🔹 Remove Duplicates"
   ]
  },
  {
   "cell_type": "code",
   "execution_count": 61,
   "id": "b3ac8cba",
   "metadata": {},
   "outputs": [],
   "source": [
    "df = df.drop_duplicates()"
   ]
  },
  {
   "cell_type": "markdown",
   "id": "ada3dc97",
   "metadata": {},
   "source": [
    "### 🔹 Convert Data Types"
   ]
  },
  {
   "cell_type": "code",
   "execution_count": 62,
   "id": "080d8ce0",
   "metadata": {},
   "outputs": [],
   "source": [
    "df['sex'] = df['sex'].astype('category')"
   ]
  },
  {
   "cell_type": "markdown",
   "id": "3ee61a06",
   "metadata": {},
   "source": [
    "### 🔹 Outlier Removal using IQR"
   ]
  },
  {
   "cell_type": "code",
   "execution_count": 63,
   "id": "65a7b0b8",
   "metadata": {},
   "outputs": [],
   "source": [
    "Q1 = df['fare'].quantile(0.25)\n",
    "Q3 = df['fare'].quantile(0.75)\n",
    "IQR = Q3 - Q1\n",
    "filtered = df[(df['fare'] >= Q1 - 1.5*IQR) & (df['fare'] <= Q3 + 1.5*IQR)]"
   ]
  },
  {
   "cell_type": "markdown",
   "id": "c506202e",
   "metadata": {},
   "source": [
    "### 🔹 Feature Engineering"
   ]
  },
  {
   "cell_type": "code",
   "execution_count": 64,
   "id": "ac5edb99",
   "metadata": {},
   "outputs": [],
   "source": [
    "df['family_size'] = df['sibsp'] + df['parch'] + 1\n",
    "df['fare_norm'] = (df['fare'] - df['fare'].min()) / (df['fare'].max() - df['fare'].min())"
   ]
  },
  {
   "cell_type": "markdown",
   "id": "4005ba9a",
   "metadata": {},
   "source": [
    "### 🔹 Filtering Rows with Conditions"
   ]
  },
  {
   "cell_type": "code",
   "execution_count": 65,
   "id": "1d505ded",
   "metadata": {},
   "outputs": [
    {
     "data": {
      "text/html": [
       "<div>\n",
       "<style scoped>\n",
       "    .dataframe tbody tr th:only-of-type {\n",
       "        vertical-align: middle;\n",
       "    }\n",
       "\n",
       "    .dataframe tbody tr th {\n",
       "        vertical-align: top;\n",
       "    }\n",
       "\n",
       "    .dataframe thead th {\n",
       "        text-align: right;\n",
       "    }\n",
       "</style>\n",
       "<table border=\"1\" class=\"dataframe\">\n",
       "  <thead>\n",
       "    <tr style=\"text-align: right;\">\n",
       "      <th></th>\n",
       "      <th>sex</th>\n",
       "      <th>fare</th>\n",
       "    </tr>\n",
       "  </thead>\n",
       "  <tbody>\n",
       "    <tr>\n",
       "      <th>27</th>\n",
       "      <td>male</td>\n",
       "      <td>263.0000</td>\n",
       "    </tr>\n",
       "    <tr>\n",
       "      <th>31</th>\n",
       "      <td>female</td>\n",
       "      <td>146.5208</td>\n",
       "    </tr>\n",
       "    <tr>\n",
       "      <th>88</th>\n",
       "      <td>female</td>\n",
       "      <td>263.0000</td>\n",
       "    </tr>\n",
       "    <tr>\n",
       "      <th>118</th>\n",
       "      <td>male</td>\n",
       "      <td>247.5208</td>\n",
       "    </tr>\n",
       "    <tr>\n",
       "      <th>195</th>\n",
       "      <td>female</td>\n",
       "      <td>146.5208</td>\n",
       "    </tr>\n",
       "  </tbody>\n",
       "</table>\n",
       "</div>"
      ],
      "text/plain": [
       "        sex      fare\n",
       "27     male  263.0000\n",
       "31   female  146.5208\n",
       "88   female  263.0000\n",
       "118    male  247.5208\n",
       "195  female  146.5208"
      ]
     },
     "execution_count": 65,
     "metadata": {},
     "output_type": "execute_result"
    }
   ],
   "source": [
    "high_fare = df[df['fare'] > 100]\n",
    "high_fare[['sex', 'fare']].head()"
   ]
  },
  {
   "cell_type": "markdown",
   "id": "f78784ff",
   "metadata": {},
   "source": [
    "### 🔹 Grouping and Aggregation"
   ]
  },
  {
   "cell_type": "code",
   "execution_count": 66,
   "id": "99c7cf6c",
   "metadata": {},
   "outputs": [
    {
     "name": "stderr",
     "output_type": "stream",
     "text": [
      "/tmp/ipykernel_804/300135932.py:1: FutureWarning: The default of observed=False is deprecated and will be changed to True in a future version of pandas. Pass observed=False to retain current behavior or observed=True to adopt the future default and silence this warning.\n",
      "  df.groupby('sex')['survived'].mean()\n"
     ]
    },
    {
     "data": {
      "text/plain": [
       "sex\n",
       "female    0.738832\n",
       "male      0.215886\n",
       "Name: survived, dtype: float64"
      ]
     },
     "execution_count": 66,
     "metadata": {},
     "output_type": "execute_result"
    }
   ],
   "source": [
    "df.groupby('sex')['survived'].mean()"
   ]
  },
  {
   "cell_type": "markdown",
   "id": "a3db5242",
   "metadata": {},
   "source": [
    "### 🔹 Sorting Data"
   ]
  },
  {
   "cell_type": "code",
   "execution_count": 67,
   "id": "0680aeb0",
   "metadata": {},
   "outputs": [
    {
     "data": {
      "text/html": [
       "<div>\n",
       "<style scoped>\n",
       "    .dataframe tbody tr th:only-of-type {\n",
       "        vertical-align: middle;\n",
       "    }\n",
       "\n",
       "    .dataframe tbody tr th {\n",
       "        vertical-align: top;\n",
       "    }\n",
       "\n",
       "    .dataframe thead th {\n",
       "        text-align: right;\n",
       "    }\n",
       "</style>\n",
       "<table border=\"1\" class=\"dataframe\">\n",
       "  <thead>\n",
       "    <tr style=\"text-align: right;\">\n",
       "      <th></th>\n",
       "      <th>survived</th>\n",
       "      <th>pclass</th>\n",
       "      <th>sex</th>\n",
       "      <th>age</th>\n",
       "      <th>sibsp</th>\n",
       "      <th>parch</th>\n",
       "      <th>fare</th>\n",
       "      <th>embarked</th>\n",
       "      <th>class</th>\n",
       "      <th>who</th>\n",
       "      <th>adult_male</th>\n",
       "      <th>deck</th>\n",
       "      <th>embark_town</th>\n",
       "      <th>alive</th>\n",
       "      <th>alone</th>\n",
       "      <th>family_size</th>\n",
       "      <th>fare_norm</th>\n",
       "    </tr>\n",
       "  </thead>\n",
       "  <tbody>\n",
       "    <tr>\n",
       "      <th>630</th>\n",
       "      <td>1</td>\n",
       "      <td>1</td>\n",
       "      <td>male</td>\n",
       "      <td>80.0</td>\n",
       "      <td>0</td>\n",
       "      <td>0</td>\n",
       "      <td>30.0000</td>\n",
       "      <td>S</td>\n",
       "      <td>First</td>\n",
       "      <td>man</td>\n",
       "      <td>True</td>\n",
       "      <td>A</td>\n",
       "      <td>Southampton</td>\n",
       "      <td>yes</td>\n",
       "      <td>True</td>\n",
       "      <td>1</td>\n",
       "      <td>0.058556</td>\n",
       "    </tr>\n",
       "    <tr>\n",
       "      <th>851</th>\n",
       "      <td>0</td>\n",
       "      <td>3</td>\n",
       "      <td>male</td>\n",
       "      <td>74.0</td>\n",
       "      <td>0</td>\n",
       "      <td>0</td>\n",
       "      <td>7.7750</td>\n",
       "      <td>S</td>\n",
       "      <td>Third</td>\n",
       "      <td>man</td>\n",
       "      <td>True</td>\n",
       "      <td>NaN</td>\n",
       "      <td>Southampton</td>\n",
       "      <td>no</td>\n",
       "      <td>True</td>\n",
       "      <td>1</td>\n",
       "      <td>0.015176</td>\n",
       "    </tr>\n",
       "    <tr>\n",
       "      <th>96</th>\n",
       "      <td>0</td>\n",
       "      <td>1</td>\n",
       "      <td>male</td>\n",
       "      <td>71.0</td>\n",
       "      <td>0</td>\n",
       "      <td>0</td>\n",
       "      <td>34.6542</td>\n",
       "      <td>C</td>\n",
       "      <td>First</td>\n",
       "      <td>man</td>\n",
       "      <td>True</td>\n",
       "      <td>A</td>\n",
       "      <td>Cherbourg</td>\n",
       "      <td>no</td>\n",
       "      <td>True</td>\n",
       "      <td>1</td>\n",
       "      <td>0.067640</td>\n",
       "    </tr>\n",
       "    <tr>\n",
       "      <th>493</th>\n",
       "      <td>0</td>\n",
       "      <td>1</td>\n",
       "      <td>male</td>\n",
       "      <td>71.0</td>\n",
       "      <td>0</td>\n",
       "      <td>0</td>\n",
       "      <td>49.5042</td>\n",
       "      <td>C</td>\n",
       "      <td>First</td>\n",
       "      <td>man</td>\n",
       "      <td>True</td>\n",
       "      <td>NaN</td>\n",
       "      <td>Cherbourg</td>\n",
       "      <td>no</td>\n",
       "      <td>True</td>\n",
       "      <td>1</td>\n",
       "      <td>0.096626</td>\n",
       "    </tr>\n",
       "    <tr>\n",
       "      <th>116</th>\n",
       "      <td>0</td>\n",
       "      <td>3</td>\n",
       "      <td>male</td>\n",
       "      <td>70.5</td>\n",
       "      <td>0</td>\n",
       "      <td>0</td>\n",
       "      <td>7.7500</td>\n",
       "      <td>Q</td>\n",
       "      <td>Third</td>\n",
       "      <td>man</td>\n",
       "      <td>True</td>\n",
       "      <td>NaN</td>\n",
       "      <td>Queenstown</td>\n",
       "      <td>no</td>\n",
       "      <td>True</td>\n",
       "      <td>1</td>\n",
       "      <td>0.015127</td>\n",
       "    </tr>\n",
       "  </tbody>\n",
       "</table>\n",
       "</div>"
      ],
      "text/plain": [
       "     survived  pclass   sex   age  sibsp  parch     fare embarked  class  who  \\\n",
       "630         1       1  male  80.0      0      0  30.0000        S  First  man   \n",
       "851         0       3  male  74.0      0      0   7.7750        S  Third  man   \n",
       "96          0       1  male  71.0      0      0  34.6542        C  First  man   \n",
       "493         0       1  male  71.0      0      0  49.5042        C  First  man   \n",
       "116         0       3  male  70.5      0      0   7.7500        Q  Third  man   \n",
       "\n",
       "     adult_male deck  embark_town alive  alone  family_size  fare_norm  \n",
       "630        True    A  Southampton   yes   True            1   0.058556  \n",
       "851        True  NaN  Southampton    no   True            1   0.015176  \n",
       "96         True    A    Cherbourg    no   True            1   0.067640  \n",
       "493        True  NaN    Cherbourg    no   True            1   0.096626  \n",
       "116        True  NaN   Queenstown    no   True            1   0.015127  "
      ]
     },
     "execution_count": 67,
     "metadata": {},
     "output_type": "execute_result"
    }
   ],
   "source": [
    "df.sort_values(by='age', ascending=False).head()"
   ]
  },
  {
   "cell_type": "markdown",
   "id": "a8aa2f5b",
   "metadata": {},
   "source": [
    "### 🔹 Pandas Visualizations"
   ]
  },
  {
   "cell_type": "code",
   "execution_count": 68,
   "id": "42f0b6bc",
   "metadata": {},
   "outputs": [
    {
     "data": {
      "image/png": "[encoded data removed]",
      "text/plain": [
       "<Figure size 640x480 with 1 Axes>"
      ]
     },
     "metadata": {},
     "output_type": "display_data"
    }
   ],
   "source": [
    "sns.histplot(df['age'], bins=20, kde=True)\n",
    "plt.title('Age Distribution')\n",
    "plt.show()"
   ]
  },
  {
   "cell_type": "markdown",
   "id": "b001f6a8",
   "metadata": {},
   "source": [
    "### 🔹 Save and Load"
   ]
  },
  {
   "cell_type": "code",
   "execution_count": 69,
   "id": "d8179ba0",
   "metadata": {},
   "outputs": [
    {
     "data": {
      "text/html": [
       "<div>\n",
       "<style scoped>\n",
       "    .dataframe tbody tr th:only-of-type {\n",
       "        vertical-align: middle;\n",
       "    }\n",
       "\n",
       "    .dataframe tbody tr th {\n",
       "        vertical-align: top;\n",
       "    }\n",
       "\n",
       "    .dataframe thead th {\n",
       "        text-align: right;\n",
       "    }\n",
       "</style>\n",
       "<table border=\"1\" class=\"dataframe\">\n",
       "  <thead>\n",
       "    <tr style=\"text-align: right;\">\n",
       "      <th></th>\n",
       "      <th>survived</th>\n",
       "      <th>pclass</th>\n",
       "      <th>sex</th>\n",
       "      <th>age</th>\n",
       "      <th>sibsp</th>\n",
       "      <th>parch</th>\n",
       "      <th>fare</th>\n",
       "      <th>embarked</th>\n",
       "      <th>class</th>\n",
       "      <th>who</th>\n",
       "      <th>adult_male</th>\n",
       "      <th>deck</th>\n",
       "      <th>embark_town</th>\n",
       "      <th>alive</th>\n",
       "      <th>alone</th>\n",
       "      <th>family_size</th>\n",
       "      <th>fare_norm</th>\n",
       "    </tr>\n",
       "  </thead>\n",
       "  <tbody>\n",
       "    <tr>\n",
       "      <th>0</th>\n",
       "      <td>0</td>\n",
       "      <td>3</td>\n",
       "      <td>male</td>\n",
       "      <td>22.000000</td>\n",
       "      <td>1</td>\n",
       "      <td>0</td>\n",
       "      <td>7.2500</td>\n",
       "      <td>S</td>\n",
       "      <td>Third</td>\n",
       "      <td>man</td>\n",
       "      <td>True</td>\n",
       "      <td>NaN</td>\n",
       "      <td>Southampton</td>\n",
       "      <td>no</td>\n",
       "      <td>False</td>\n",
       "      <td>2</td>\n",
       "      <td>0.014151</td>\n",
       "    </tr>\n",
       "    <tr>\n",
       "      <th>1</th>\n",
       "      <td>1</td>\n",
       "      <td>1</td>\n",
       "      <td>female</td>\n",
       "      <td>38.000000</td>\n",
       "      <td>1</td>\n",
       "      <td>0</td>\n",
       "      <td>71.2833</td>\n",
       "      <td>C</td>\n",
       "      <td>First</td>\n",
       "      <td>woman</td>\n",
       "      <td>False</td>\n",
       "      <td>C</td>\n",
       "      <td>Cherbourg</td>\n",
       "      <td>yes</td>\n",
       "      <td>False</td>\n",
       "      <td>2</td>\n",
       "      <td>0.139136</td>\n",
       "    </tr>\n",
       "    <tr>\n",
       "      <th>2</th>\n",
       "      <td>1</td>\n",
       "      <td>3</td>\n",
       "      <td>female</td>\n",
       "      <td>26.000000</td>\n",
       "      <td>0</td>\n",
       "      <td>0</td>\n",
       "      <td>7.9250</td>\n",
       "      <td>S</td>\n",
       "      <td>Third</td>\n",
       "      <td>woman</td>\n",
       "      <td>False</td>\n",
       "      <td>NaN</td>\n",
       "      <td>Southampton</td>\n",
       "      <td>yes</td>\n",
       "      <td>True</td>\n",
       "      <td>1</td>\n",
       "      <td>0.015469</td>\n",
       "    </tr>\n",
       "    <tr>\n",
       "      <th>3</th>\n",
       "      <td>1</td>\n",
       "      <td>1</td>\n",
       "      <td>female</td>\n",
       "      <td>35.000000</td>\n",
       "      <td>1</td>\n",
       "      <td>0</td>\n",
       "      <td>53.1000</td>\n",
       "      <td>S</td>\n",
       "      <td>First</td>\n",
       "      <td>woman</td>\n",
       "      <td>False</td>\n",
       "      <td>C</td>\n",
       "      <td>Southampton</td>\n",
       "      <td>yes</td>\n",
       "      <td>False</td>\n",
       "      <td>2</td>\n",
       "      <td>0.103644</td>\n",
       "    </tr>\n",
       "    <tr>\n",
       "      <th>4</th>\n",
       "      <td>0</td>\n",
       "      <td>3</td>\n",
       "      <td>male</td>\n",
       "      <td>35.000000</td>\n",
       "      <td>0</td>\n",
       "      <td>0</td>\n",
       "      <td>8.0500</td>\n",
       "      <td>S</td>\n",
       "      <td>Third</td>\n",
       "      <td>man</td>\n",
       "      <td>True</td>\n",
       "      <td>NaN</td>\n",
       "      <td>Southampton</td>\n",
       "      <td>no</td>\n",
       "      <td>True</td>\n",
       "      <td>1</td>\n",
       "      <td>0.015713</td>\n",
       "    </tr>\n",
       "    <tr>\n",
       "      <th>...</th>\n",
       "      <td>...</td>\n",
       "      <td>...</td>\n",
       "      <td>...</td>\n",
       "      <td>...</td>\n",
       "      <td>...</td>\n",
       "      <td>...</td>\n",
       "      <td>...</td>\n",
       "      <td>...</td>\n",
       "      <td>...</td>\n",
       "      <td>...</td>\n",
       "      <td>...</td>\n",
       "      <td>...</td>\n",
       "      <td>...</td>\n",
       "      <td>...</td>\n",
       "      <td>...</td>\n",
       "      <td>...</td>\n",
       "      <td>...</td>\n",
       "    </tr>\n",
       "    <tr>\n",
       "      <th>777</th>\n",
       "      <td>0</td>\n",
       "      <td>3</td>\n",
       "      <td>female</td>\n",
       "      <td>39.000000</td>\n",
       "      <td>0</td>\n",
       "      <td>5</td>\n",
       "      <td>29.1250</td>\n",
       "      <td>Q</td>\n",
       "      <td>Third</td>\n",
       "      <td>woman</td>\n",
       "      <td>False</td>\n",
       "      <td>NaN</td>\n",
       "      <td>Queenstown</td>\n",
       "      <td>no</td>\n",
       "      <td>False</td>\n",
       "      <td>6</td>\n",
       "      <td>0.056848</td>\n",
       "    </tr>\n",
       "    <tr>\n",
       "      <th>778</th>\n",
       "      <td>1</td>\n",
       "      <td>1</td>\n",
       "      <td>female</td>\n",
       "      <td>19.000000</td>\n",
       "      <td>0</td>\n",
       "      <td>0</td>\n",
       "      <td>30.0000</td>\n",
       "      <td>S</td>\n",
       "      <td>First</td>\n",
       "      <td>woman</td>\n",
       "      <td>False</td>\n",
       "      <td>B</td>\n",
       "      <td>Southampton</td>\n",
       "      <td>yes</td>\n",
       "      <td>True</td>\n",
       "      <td>1</td>\n",
       "      <td>0.058556</td>\n",
       "    </tr>\n",
       "    <tr>\n",
       "      <th>779</th>\n",
       "      <td>0</td>\n",
       "      <td>3</td>\n",
       "      <td>female</td>\n",
       "      <td>29.699118</td>\n",
       "      <td>1</td>\n",
       "      <td>2</td>\n",
       "      <td>23.4500</td>\n",
       "      <td>S</td>\n",
       "      <td>Third</td>\n",
       "      <td>woman</td>\n",
       "      <td>False</td>\n",
       "      <td>NaN</td>\n",
       "      <td>Southampton</td>\n",
       "      <td>no</td>\n",
       "      <td>False</td>\n",
       "      <td>4</td>\n",
       "      <td>0.045771</td>\n",
       "    </tr>\n",
       "    <tr>\n",
       "      <th>780</th>\n",
       "      <td>1</td>\n",
       "      <td>1</td>\n",
       "      <td>male</td>\n",
       "      <td>26.000000</td>\n",
       "      <td>0</td>\n",
       "      <td>0</td>\n",
       "      <td>30.0000</td>\n",
       "      <td>C</td>\n",
       "      <td>First</td>\n",
       "      <td>man</td>\n",
       "      <td>True</td>\n",
       "      <td>C</td>\n",
       "      <td>Cherbourg</td>\n",
       "      <td>yes</td>\n",
       "      <td>True</td>\n",
       "      <td>1</td>\n",
       "      <td>0.058556</td>\n",
       "    </tr>\n",
       "    <tr>\n",
       "      <th>781</th>\n",
       "      <td>0</td>\n",
       "      <td>3</td>\n",
       "      <td>male</td>\n",
       "      <td>32.000000</td>\n",
       "      <td>0</td>\n",
       "      <td>0</td>\n",
       "      <td>7.7500</td>\n",
       "      <td>Q</td>\n",
       "      <td>Third</td>\n",
       "      <td>man</td>\n",
       "      <td>True</td>\n",
       "      <td>NaN</td>\n",
       "      <td>Queenstown</td>\n",
       "      <td>no</td>\n",
       "      <td>True</td>\n",
       "      <td>1</td>\n",
       "      <td>0.015127</td>\n",
       "    </tr>\n",
       "  </tbody>\n",
       "</table>\n",
       "<p>782 rows × 17 columns</p>\n",
       "</div>"
      ],
      "text/plain": [
       "     survived  pclass     sex        age  sibsp  parch     fare embarked  \\\n",
       "0           0       3    male  22.000000      1      0   7.2500        S   \n",
       "1           1       1  female  38.000000      1      0  71.2833        C   \n",
       "2           1       3  female  26.000000      0      0   7.9250        S   \n",
       "3           1       1  female  35.000000      1      0  53.1000        S   \n",
       "4           0       3    male  35.000000      0      0   8.0500        S   \n",
       "..        ...     ...     ...        ...    ...    ...      ...      ...   \n",
       "777         0       3  female  39.000000      0      5  29.1250        Q   \n",
       "778         1       1  female  19.000000      0      0  30.0000        S   \n",
       "779         0       3  female  29.699118      1      2  23.4500        S   \n",
       "780         1       1    male  26.000000      0      0  30.0000        C   \n",
       "781         0       3    male  32.000000      0      0   7.7500        Q   \n",
       "\n",
       "     class    who  adult_male deck  embark_town alive  alone  family_size  \\\n",
       "0    Third    man        True  NaN  Southampton    no  False            2   \n",
       "1    First  woman       False    C    Cherbourg   yes  False            2   \n",
       "2    Third  woman       False  NaN  Southampton   yes   True            1   \n",
       "3    First  woman       False    C  Southampton   yes  False            2   \n",
       "4    Third    man        True  NaN  Southampton    no   True            1   \n",
       "..     ...    ...         ...  ...          ...   ...    ...          ...   \n",
       "777  Third  woman       False  NaN   Queenstown    no  False            6   \n",
       "778  First  woman       False    B  Southampton   yes   True            1   \n",
       "779  Third  woman       False  NaN  Southampton    no  False            4   \n",
       "780  First    man        True    C    Cherbourg   yes   True            1   \n",
       "781  Third    man        True  NaN   Queenstown    no   True            1   \n",
       "\n",
       "     fare_norm  \n",
       "0     0.014151  \n",
       "1     0.139136  \n",
       "2     0.015469  \n",
       "3     0.103644  \n",
       "4     0.015713  \n",
       "..         ...  \n",
       "777   0.056848  \n",
       "778   0.058556  \n",
       "779   0.045771  \n",
       "780   0.058556  \n",
       "781   0.015127  \n",
       "\n",
       "[782 rows x 17 columns]"
      ]
     },
     "execution_count": 69,
     "metadata": {},
     "output_type": "execute_result"
    }
   ],
   "source": [
    "df.to_csv(\"cleaned_titanic.csv\", index=False)\n",
    "pd.read_csv(\"cleaned_titanic.csv\")"
   ]
  },
  {
   "cell_type": "markdown",
   "id": "c1ea6574",
   "metadata": {},
   "source": [
    "## SECTION 3: Scientific Data Analysis with Xarray"
   ]
  },
  {
   "cell_type": "code",
   "execution_count": 70,
   "id": "0d7db3e6",
   "metadata": {},
   "outputs": [
    {
     "data": {
      "text/plain": [
       "<xarray.core.options.set_options at 0x7f718689d310>"
      ]
     },
     "execution_count": 70,
     "metadata": {},
     "output_type": "execute_result"
    }
   ],
   "source": [
    "import xarray as xr\n",
    "xr.set_options(display_style='text')"
   ]
  },
  {
   "cell_type": "code",
   "execution_count": 71,
   "id": "b2f8958c",
   "metadata": {},
   "outputs": [
    {
     "data": {
      "text/html": [
       "<pre>&lt;xarray.Dataset&gt; Size: 3MB\n",
       "Dimensions:  (COADSX: 180, COADSY: 90, TIME: 12)\n",
       "Coordinates:\n",
       "  * COADSX   (COADSX) float64 1kB 21.0 23.0 25.0 27.0 ... 375.0 377.0 379.0\n",
       "  * COADSY   (COADSY) float64 720B -89.0 -87.0 -85.0 -83.0 ... 85.0 87.0 89.0\n",
       "  * TIME     (TIME) float64 96B 366.0 1.096e+03 ... 7.671e+03 8.401e+03\n",
       "Data variables:\n",
       "    SST      (TIME, COADSY, COADSX) float32 778kB ...\n",
       "    AIRT     (TIME, COADSY, COADSX) float32 778kB ...\n",
       "    UWND     (TIME, COADSY, COADSX) float32 778kB ...\n",
       "    VWND     (TIME, COADSY, COADSX) float32 778kB ...\n",
       "Attributes:\n",
       "    history:                         FERRET V4.30 (debug/no GUI) 15-Aug-96\n",
       "    DODS_EXTRA.Unlimited_Dimension:  TIME</pre>"
      ],
      "text/plain": [
       "<xarray.Dataset> Size: 3MB\n",
       "Dimensions:  (COADSX: 180, COADSY: 90, TIME: 12)\n",
       "Coordinates:\n",
       "  * COADSX   (COADSX) float64 1kB 21.0 23.0 25.0 27.0 ... 375.0 377.0 379.0\n",
       "  * COADSY   (COADSY) float64 720B -89.0 -87.0 -85.0 -83.0 ... 85.0 87.0 89.0\n",
       "  * TIME     (TIME) float64 96B 366.0 1.096e+03 ... 7.671e+03 8.401e+03\n",
       "Data variables:\n",
       "    SST      (TIME, COADSY, COADSX) float32 778kB ...\n",
       "    AIRT     (TIME, COADSY, COADSX) float32 778kB ...\n",
       "    UWND     (TIME, COADSY, COADSX) float32 778kB ...\n",
       "    VWND     (TIME, COADSY, COADSX) float32 778kB ...\n",
       "Attributes:\n",
       "    history:                         FERRET V4.30 (debug/no GUI) 15-Aug-96\n",
       "    DODS_EXTRA.Unlimited_Dimension:  TIME"
      ]
     },
     "execution_count": 71,
     "metadata": {},
     "output_type": "execute_result"
    }
   ],
   "source": [
    "url = 'http://test.opendap.org/opendap/data/nc/coads_climatology.nc'\n",
    "ds = xr.open_dataset(url, decode_times=False)\n",
    "ds"
   ]
  },
  {
   "cell_type": "code",
   "execution_count": 72,
   "id": "584a41d3",
   "metadata": {},
   "outputs": [],
   "source": [
    "sst = ds['SST']\n",
    "sst_clean = sst.where(sst > -1e30)"
   ]
  },
  {
   "cell_type": "markdown",
   "id": "fa77a2d0",
   "metadata": {},
   "source": [
    "### 🔹 Subset by Time and Region"
   ]
  },
  {
   "cell_type": "code",
   "execution_count": 73,
   "id": "86a0e0f9",
   "metadata": {},
   "outputs": [],
   "source": [
    "sst_jan = sst_clean.isel(TIME=0)\n",
    "sst_region = sst_jan.sel(COADSY=slice(-10, 10), COADSX=slice(120, 240))"
   ]
  },
  {
   "cell_type": "code",
   "execution_count": 74,
   "id": "96409ae4",
   "metadata": {},
   "outputs": [
    {
     "data": {
      "image/png": "[encoded data removed]",
      "text/plain": [
       "<Figure size 640x480 with 2 Axes>"
      ]
     },
     "metadata": {},
     "output_type": "display_data"
    }
   ],
   "source": [
    "sst_region.plot(cmap='coolwarm')\n",
    "plt.title(\"Sea Surface Temp - Tropical Pacific\")\n",
    "plt.show()"
   ]
  },
  {
   "cell_type": "markdown",
   "id": "e461566a",
   "metadata": {},
   "source": [
    "### 🔹 Compute Stats"
   ]
  },
  {
   "cell_type": "code",
   "execution_count": 75,
   "id": "e9fea186",
   "metadata": {},
   "outputs": [
    {
     "data": {
      "image/png": "[encoded data removed]",
      "text/plain": [
       "<Figure size 640x480 with 2 Axes>"
      ]
     },
     "metadata": {},
     "output_type": "display_data"
    }
   ],
   "source": [
    "sst_mean = sst_clean.mean(dim='TIME')\n",
    "sst_mean.plot()\n",
    "plt.title(\"Mean SST\")\n",
    "plt.show()"
   ]
  },
  {
   "cell_type": "code",
   "execution_count": 76,
   "id": "2e46af55",
   "metadata": {},
   "outputs": [
    {
     "data": {
      "image/png": "[encoded data removed]",
      "text/plain": [
       "<Figure size 640x480 with 1 Axes>"
      ]
     },
     "metadata": {},
     "output_type": "display_data"
    }
   ],
   "source": [
    "flat = sst_region.values.flatten()\n",
    "flat = flat[~np.isnan(flat)]\n",
    "plt.hist(flat, bins=30)\n",
    "plt.title(\"Histogram of SST\")\n",
    "plt.show()"
   ]
  },
  {
   "cell_type": "markdown",
   "id": "59a6b05e",
   "metadata": {},
   "source": [
    "### 🔹 Export Subset"
   ]
  },
  {
   "cell_type": "code",
   "execution_count": 77,
   "id": "a8456ecc",
   "metadata": {},
   "outputs": [],
   "source": [
    "#sst_region.to_dataset(name='sst_subset').to_netcdf(\"sst_subset.nc\")"
   ]
  }
 ],
 "metadata": {
  "kernelspec": {
   "display_name": "Python 3 (ipykernel)",
   "language": "python",
   "name": "python3"
  },
  "language_info": {
   "codemirror_mode": {
    "name": "ipython",
    "version": 3
   },
   "file_extension": ".py",
   "mimetype": "text/x-python",
   "name": "python",
   "nbconvert_exporter": "python",
   "pygments_lexer": "ipython3",
   "version": "3.11.11"
  }
 },
 "nbformat": 4,
 "nbformat_minor": 5
}
