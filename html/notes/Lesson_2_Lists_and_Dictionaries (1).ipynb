{
 "cells": [
  {
   "cell_type": "markdown",
   "id": "c5076fb7",
   "metadata": {},
   "source": [
    "\n",
    "# Lesson 2: Lists and Dictionaries\n",
    "\n",
    "This notebook introduces two of Python’s most powerful and versatile data structures: lists and dictionaries.  \n",
    "By the end of this lesson, you will be able to:\n",
    "\n",
    "- Create and manipulate Python lists and dictionaries\n",
    "- Use indexing to access specific values\n",
    "- Understand and compare data types vs data structures\n",
    "- Use built-in functions and methods for working with collections\n",
    "- Identify common errors and how to fix them\n"
   ]
  },
  {
   "cell_type": "markdown",
   "id": "973cd3b0",
   "metadata": {},
   "source": [
    "\n",
    "## Warm-Up: Data Containers\n",
    "\n",
    "A list is like a to-do list — an ordered sequence of items.  \n",
    "A dictionary is like a contact book — a collection of key-value pairs.\n",
    "\n",
    "Take a moment to think:\n",
    "- What in your life is organized like a list?\n",
    "- What in your life is organized like a dictionary?\n",
    "\n",
    "You can write your thoughts below:\n"
   ]
  },
  {
   "cell_type": "code",
   "execution_count": null,
   "id": "d9611679",
   "metadata": {},
   "outputs": [],
   "source": [
    "# Example: groceries = ['milk', 'bread', 'eggs']\n",
    "# contacts = {'Alice': '123-4567', 'Bob': '987-6543'}"
   ]
  },
  {
   "cell_type": "markdown",
   "id": "f4d8ddc2",
   "metadata": {},
   "source": [
    "\n",
    "## Lists in Python\n",
    "\n",
    "A list is an ordered collection of items. Lists can hold any data type and even mix them.\n",
    "\n",
    "### Creating a List\n",
    "```python\n",
    "my_list = [1, 2, 3]\n",
    "```\n",
    "\n",
    "### Accessing Elements\n",
    "Use indexing (starts from 0):\n",
    "```python\n",
    "first = my_list[0]  # returns 1\n",
    "```\n",
    "\n",
    "### Adding Items\n",
    "Use `.append()` to add to the end:\n",
    "```python\n",
    "my_list.append(4)\n",
    "```\n",
    "\n",
    "### Mixing Data Types\n",
    "```python\n",
    "mixed = [42, \"NASA\", True]\n",
    "```\n",
    "\n",
    "### Useful Functions\n",
    "- `len(my_list)` – number of elements\n",
    "- `sum(my_list)` – adds numbers\n",
    "- `min(my_list)` / `max(my_list)` – smallest/largest value\n"
   ]
  },
  {
   "cell_type": "code",
   "execution_count": 8,
   "id": "64ab16c8",
   "metadata": {},
   "outputs": [
    {
     "name": "stdout",
     "output_type": "stream",
     "text": [
      "10\n",
      "Length: 4\n",
      "Sum: 50\n",
      "Length 3\n",
      "[20, 21, 36, 57, 61]\n",
      "['figfig', 'julsie', 'rory']\n"
     ]
    }
   ],
   "source": [
    "\n",
    "# Try these:\n",
    "my_list = [5, 10, 15]\n",
    "print(my_list[1])\n",
    "my_list.append(20)\n",
    "print(\"Length:\", len(my_list))\n",
    "print(\"Sum:\", sum(my_list))\n",
    "\n",
    "pets = [\"figfig\", \"julsie\", \"rory\"]\n",
    "print (\"Length\", len(pets))\n",
    "\n",
    "figfig = 2\n",
    "\n",
    "pet_ages = [\"fig\":20, \"rory\":9, \"julsie\":14]\n",
    "family_ages = [20, 21, 36, 57, 61]\n",
    "\n",
    "print(family_ages)\n",
    "len(family_ages)\n",
    "\n",
    "\n",
    "print(pets)\n",
    "pets.append(\"molly blasko\")\n"
   ]
  },
  {
   "cell_type": "markdown",
   "id": "cbd5822e",
   "metadata": {},
   "source": [
    "\n",
    "## Dictionaries in Python\n",
    "\n",
    "Dictionaries store data using keys and values.\n",
    "\n",
    "### Creating a Dictionary\n",
    "```python\n",
    "my_dict = {\"city\": \"Pasadena\"}\n",
    "```\n",
    "\n",
    "### Accessing a Value\n",
    "```python\n",
    "my_dict[\"city\"]  # returns 'Pasadena'\n",
    "```\n",
    "\n",
    "### Adding a New Key-Value Pair\n",
    "```python\n",
    "my_dict[\"state\"] = \"CA\"\n",
    "```\n",
    "\n",
    "### Keys Must Be Unique\n",
    "Each key appears only once. Values can be any data type.\n"
   ]
  },
  {
   "cell_type": "code",
   "execution_count": null,
   "id": "2ecb4b6c",
   "metadata": {},
   "outputs": [],
   "source": [
    "\n",
    "# Try this:\n",
    "info = {\"name\": \"Sam\", \"age\": 16}\n",
    "print(info[\"name\"])\n",
    "info[\"school\"] = \"NASA High\"\n",
    "print(info)\n"
   ]
  },
  {
   "cell_type": "code",
   "execution_count": 11,
   "id": "34fb6da0-4415-4d36-9461-a76e9039c4e9",
   "metadata": {},
   "outputs": [],
   "source": [
    "info = {\"name\": \"figfig\", \"age\": 2, \"species\": \"orange cat\"}\n"
   ]
  },
  {
   "cell_type": "code",
   "execution_count": 16,
   "id": "2f732c02-1041-4872-b644-c2d4d4a20431",
   "metadata": {},
   "outputs": [
    {
     "ename": "TypeError",
     "evalue": "can only concatenate str (not \"list\") to str",
     "output_type": "error",
     "traceback": [
      "\u001b[0;31m---------------------------------------------------------------------------\u001b[0m",
      "\u001b[0;31mTypeError\u001b[0m                                 Traceback (most recent call last)",
      "Cell \u001b[0;32mIn[16], line 1\u001b[0m\n\u001b[0;32m----> 1\u001b[0m \u001b[38;5;28mprint\u001b[39m(\u001b[43minfo\u001b[49m\u001b[43m \u001b[49m\u001b[43m[\u001b[49m\u001b[38;5;124;43m\"\u001b[39;49m\u001b[38;5;124;43mname\u001b[39;49m\u001b[38;5;124;43m\"\u001b[39;49m\u001b[43m]\u001b[49m\u001b[43m \u001b[49m\u001b[38;5;241;43m+\u001b[39;49m\u001b[43m \u001b[49m\u001b[38;5;124;43m\"\u001b[39;49m\u001b[38;5;124;43mis\u001b[39;49m\u001b[38;5;124;43m\"\u001b[39;49m\u001b[43m \u001b[49m\u001b[38;5;241;43m+\u001b[39;49m\u001b[43m \u001b[49m\u001b[43m[\u001b[49m\u001b[38;5;124;43m\"\u001b[39;49m\u001b[38;5;124;43mage\u001b[39;49m\u001b[38;5;124;43m\"\u001b[39;49m\u001b[43m]\u001b[49m \u001b[38;5;241m+\u001b[39m \u001b[38;5;124m\"\u001b[39m\u001b[38;5;124mand he is an\u001b[39m\u001b[38;5;124m\"\u001b[39m \u001b[38;5;241m+\u001b[39m [\u001b[38;5;124m\"\u001b[39m\u001b[38;5;124mspecies\u001b[39m\u001b[38;5;124m\"\u001b[39m])\n",
      "\u001b[0;31mTypeError\u001b[0m: can only concatenate str (not \"list\") to str"
     ]
    }
   ],
   "source": [
    "print(info [\"name\"] + \"is\" + [\"age\"] + \"and he is an\" + [\"species\"])"
   ]
  },
  {
   "cell_type": "code",
   "execution_count": 19,
   "id": "fd2d3264-9fcf-48c9-86ed-70f84de2f2ee",
   "metadata": {},
   "outputs": [
    {
     "name": "stdout",
     "output_type": "stream",
     "text": [
      "figfig\n"
     ]
    }
   ],
   "source": [
    "print(info[\"name\"])"
   ]
  },
  {
   "cell_type": "code",
   "execution_count": 20,
   "id": "75ad67df-a36d-42bf-a4d2-a7398a28b5e5",
   "metadata": {},
   "outputs": [
    {
     "name": "stdout",
     "output_type": "stream",
     "text": [
      "orange cat\n"
     ]
    }
   ],
   "source": [
    "print(info[\"species\"])"
   ]
  },
  {
   "cell_type": "code",
   "execution_count": 28,
   "id": "29e92885-fd99-4762-a7e2-2136be382f7f",
   "metadata": {},
   "outputs": [],
   "source": [
    "about_me = {\n",
    "    \"name\": \"Kiersten\", \n",
    "    \"age\": 21,\n",
    "    \"favorite_food\": \"avo toast and eggs\" }\n",
    "\n",
    "#difference between a list and a dictionary - dictionary has PAIRS, lists only have TERMS \n",
    "#dictionaries use weird brackets and colons, everything except numbers in quotes\n",
    "#lists can't have this item equals the other item, dictionaries can\n",
    "#with lists you have to APPEND (using the .append function), and in dictionaries you just add new terms \n",
    "#when initally defining terms in a dictionary, you use a colon, when ADDING terms, you use equals sign\n",
    "# [ = square bracket, { = curly bracket "
   ]
  },
  {
   "cell_type": "code",
   "execution_count": 29,
   "id": "f7268cf7-c2b0-48ab-a570-802e7187752a",
   "metadata": {},
   "outputs": [],
   "source": [
    "about_me[\"favorite color\"] = \"green\""
   ]
  },
  {
   "cell_type": "code",
   "execution_count": 30,
   "id": "43438b2e-0b51-4ec7-98dc-d14f8da3fc6a",
   "metadata": {},
   "outputs": [
    {
     "data": {
      "text/plain": [
       "{'name': 'Kiersten',\n",
       " 'age': 21,\n",
       " 'favorite_food': 'avo toast and eggs',\n",
       " 'favorite color': 'green'}"
      ]
     },
     "execution_count": 30,
     "metadata": {},
     "output_type": "execute_result"
    }
   ],
   "source": [
    "about_me"
   ]
  },
  {
   "cell_type": "code",
   "execution_count": null,
   "id": "3de7d9cd-db7c-4187-b602-d7db32cccfc9",
   "metadata": {},
   "outputs": [],
   "source": []
  },
  {
   "cell_type": "code",
   "execution_count": null,
   "id": "85c299ae-cb98-457f-b96c-ccb00f832ec1",
   "metadata": {},
   "outputs": [],
   "source": []
  },
  {
   "cell_type": "code",
   "execution_count": null,
   "id": "d6645ab1-6ba5-4397-a4a0-4830f5b3ba67",
   "metadata": {},
   "outputs": [],
   "source": []
  },
  {
   "cell_type": "code",
   "execution_count": null,
   "id": "d46c0a81-d254-47f7-8886-578c76487cd3",
   "metadata": {},
   "outputs": [],
   "source": []
  },
  {
   "cell_type": "code",
   "execution_count": null,
   "id": "5a4b25cd-4b41-47cf-ac6f-f41123fe491e",
   "metadata": {},
   "outputs": [],
   "source": []
  },
  {
   "cell_type": "code",
   "execution_count": null,
   "id": "bc6f2334-57f2-4791-8d41-4ee1811eae3b",
   "metadata": {},
   "outputs": [],
   "source": []
  },
  {
   "cell_type": "markdown",
   "id": "0559c1bb",
   "metadata": {},
   "source": [
    "\n",
    "## Data Structure vs. Data Type\n",
    "\n",
    "- Data types are single values: `int`, `float`, `str`, `bool`\n",
    "- Data structures organize multiple values: `list`, `dict`\n",
    "\n",
    "Example:\n",
    "```python\n",
    "temperature = 75             # float\n",
    "cities = [\"LA\", \"SF\"]        # list of strings\n",
    "person = {\"name\": \"Jo\"}      # dictionary\n",
    "```\n"
   ]
  },
  {
   "cell_type": "markdown",
   "id": "8c9c4b26",
   "metadata": {},
   "source": [
    "\n",
    "## Practice Exercise\n",
    "\n",
    "1. Make a list of your top 3 favorite foods.\n",
    "2. Print your 2nd favorite food.\n",
    "3. Create a dictionary with your name, age, and favorite food.\n",
    "4. Add your favorite color to the dictionary.\n"
   ]
  },
  {
   "cell_type": "code",
   "execution_count": 25,
   "id": "806c42b5",
   "metadata": {},
   "outputs": [],
   "source": [
    "favorites = [\"avo toast and eggs\", \"taco stand shrimp burrito\", \"butter parmigano reggiano pasta\"]"
   ]
  },
  {
   "cell_type": "code",
   "execution_count": 27,
   "id": "e56321d0-b5a2-49b8-b79c-5869bc2de1e7",
   "metadata": {},
   "outputs": [
    {
     "name": "stdout",
     "output_type": "stream",
     "text": [
      "taco stand shrimp burrito\n"
     ]
    }
   ],
   "source": [
    "print(favorites[1])"
   ]
  },
  {
   "cell_type": "code",
   "execution_count": null,
   "id": "0ee81342-dbaa-4174-b0e8-f649daf765e7",
   "metadata": {},
   "outputs": [],
   "source": [
    "#i did this up above"
   ]
  },
  {
   "cell_type": "code",
   "execution_count": null,
   "id": "69b41e0d-b932-4a21-aaa5-7ead7de948c6",
   "metadata": {},
   "outputs": [],
   "source": []
  },
  {
   "cell_type": "code",
   "execution_count": null,
   "id": "a5d54f28-dfbb-4770-aa00-0cbebc156567",
   "metadata": {},
   "outputs": [],
   "source": []
  },
  {
   "cell_type": "code",
   "execution_count": null,
   "id": "8fcfcbfc-98f6-4a47-af39-db6b3312282d",
   "metadata": {},
   "outputs": [],
   "source": []
  },
  {
   "cell_type": "markdown",
   "id": "04459cd8",
   "metadata": {},
   "source": [
    "\n",
    "## Debugging Tips\n",
    "\n",
    "| Error        | Cause                               |\n",
    "|--------------|--------------------------------------|\n",
    "| IndexError   | Accessed list index that doesn't exist |\n",
    "| KeyError     | Accessed dictionary key that isn't there |\n",
    "| TypeError    | Used the wrong type or wrong syntax (e.g., square vs curly brackets) |\n",
    "\n",
    "Always use `print()` and `type()` to investigate.\n"
   ]
  },
  {
   "cell_type": "code",
   "execution_count": null,
   "id": "55c2b1e2",
   "metadata": {},
   "outputs": [],
   "source": [
    "\n",
    "# Examples:\n",
    "# IndexError\n",
    "numbers = [1, 2, 3]\n",
    "# print(numbers[5])  # Uncomment to see the error\n",
    "\n",
    "# KeyError\n",
    "student = {\"name\": \"Ali\"}\n",
    "# print(student[\"age\"])  # Uncomment to see the error\n",
    "\n",
    "# TypeError\n",
    "# print(student[0])  # Uncomment to see the error\n"
   ]
  },
  {
   "cell_type": "markdown",
   "id": "1dbe7599",
   "metadata": {},
   "source": [
    "\n",
    "## Mini Quiz\n",
    "\n",
    "1. What does `my_list[2]` return if `my_list = [10, 20, 30, 40]`?\n",
    "2. How do you add a new key to a dictionary?\n",
    "3. What will this print?\n",
    "```python\n",
    "person = {\"name\": \"Jo\", \"age\": 15}\n",
    "print(person[\"age\"])\n",
    "```\n"
   ]
  },
  {
   "cell_type": "code",
   "execution_count": null,
   "id": "bd3fedc5",
   "metadata": {},
   "outputs": [],
   "source": [
    "1. 30\n",
    "2. do whatever_the_dict_name[\"what you're adding\"] = \"a value\" \n"
   ]
  },
  {
   "cell_type": "markdown",
   "id": "b015ed33",
   "metadata": {},
   "source": [
    "\n",
    "## Final Practice\n",
    "\n",
    "Write a Python program that:\n",
    "\n",
    "1. Creates a list of 5 numbers\n",
    "2. Calculates the sum and average\n",
    "3. Stores your name, age, and calculated average in a dictionary\n",
    "4. Prints a message summarizing the info\n",
    "\n",
    "Example output:\n",
    "```\n",
    "Sofia is 16 years old. The average of her list is 23.6\n",
    "```\n"
   ]
  },
  {
   "cell_type": "code",
   "execution_count": 39,
   "id": "c6accdbd-f71e-405e-ad7b-cb916ed65e60",
   "metadata": {},
   "outputs": [
    {
     "data": {
      "text/plain": [
       "195"
      ]
     },
     "execution_count": 39,
     "metadata": {},
     "output_type": "execute_result"
    }
   ],
   "source": [
    "family_ages = (20, 21, 36, 57, 61)\n",
    "sum(family_ages)"
   ]
  },
  {
   "cell_type": "code",
   "execution_count": 44,
   "id": "0c846fe7-8e1e-4010-8f10-32384b35fa5b",
   "metadata": {},
   "outputs": [],
   "source": [
    "average = sum(family_ages)/len(family_ages)"
   ]
  },
  {
   "cell_type": "code",
   "execution_count": 45,
   "id": "ef934f3d-5c43-4c04-8bfd-78c2e5fb5481",
   "metadata": {},
   "outputs": [
    {
     "data": {
      "text/plain": [
       "39.0"
      ]
     },
     "execution_count": 45,
     "metadata": {},
     "output_type": "execute_result"
    }
   ],
   "source": [
    "average"
   ]
  },
  {
   "cell_type": "code",
   "execution_count": null,
   "id": "3c28659c-afa3-4f31-9211-facf43137d5e",
   "metadata": {},
   "outputs": [],
   "source": []
  },
  {
   "cell_type": "code",
   "execution_count": 47,
   "id": "003f3ad5-8272-4386-a7df-3230586e5136",
   "metadata": {},
   "outputs": [],
   "source": [
    "girl = {\n",
    "    \"name\": \"kiersten\",\n",
    "    \"age\": 21,\n",
    "    \"avg\": average\n",
    "}"
   ]
  },
  {
   "cell_type": "code",
   "execution_count": null,
   "id": "0e7d545a-f720-44f2-bf94-ee909f0e45a1",
   "metadata": {},
   "outputs": [],
   "source": []
  },
  {
   "cell_type": "code",
   "execution_count": 49,
   "id": "cbf43e6a-51e6-4520-a7fb-255fb4c48aa3",
   "metadata": {},
   "outputs": [
    {
     "name": "stdout",
     "output_type": "stream",
     "text": [
      "kiersten is 21 years old and the average of her family's ages is 39.0\n"
     ]
    }
   ],
   "source": [
    "print(girl[\"name\"], \"is\", girl[\"age\"], \"years old\", \"and the average of her family's ages is\", girl[\"avg\"])"
   ]
  },
  {
   "cell_type": "code",
   "execution_count": null,
   "id": "2917fefb-e68e-46ab-b3ba-6c85421268ec",
   "metadata": {},
   "outputs": [],
   "source": [
    "#####YUPPPPPPPPPPPPPP YESSSSSIRRRR"
   ]
  },
  {
   "cell_type": "markdown",
   "id": "1f579c50-5553-498d-a3dd-8e41baed264a",
   "metadata": {},
   "source": [
    "End of class survey [https://docs.google.com/forms/d/e/1FAIpQLSeumkFg5KWdqC7N0SgolOL-vZvuk_GnrPmSmNXNdFrIknQbOA/viewform]"
   ]
  }
 ],
 "metadata": {
  "kernelspec": {
   "display_name": "Python 3 (ipykernel)",
   "language": "python",
   "name": "python3"
  },
  "language_info": {
   "codemirror_mode": {
    "name": "ipython",
    "version": 3
   },
   "file_extension": ".py",
   "mimetype": "text/x-python",
   "name": "python",
   "nbconvert_exporter": "python",
   "pygments_lexer": "ipython3",
   "version": "3.11.11"
  }
 },
 "nbformat": 4,
 "nbformat_minor": 5
}
