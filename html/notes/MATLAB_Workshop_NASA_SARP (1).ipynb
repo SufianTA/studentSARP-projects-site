{
 "cells": [
  {
   "cell_type": "markdown",
   "id": "7084cda2",
   "metadata": {},
   "source": [
    "# MATLAB for Beginners – NASA SARP Workshop\n",
    "Welcome to this hands-on workshop focused on learning MATLAB from scratch with examples tailored to Earth science and atmospheric data, including how to integrate with Python.\n"
   ]
  },
  {
   "cell_type": "markdown",
   "id": "5ee852f8",
   "metadata": {},
   "source": [
    "## Agenda\n",
    "1. What is MATLAB?\n",
    "2. MATLAB Interface and Running Scripts\n",
    "3. Variables and Vectors\n",
    "4. Matrices and Array Math\n",
    "5. Plotting and Visualization\n",
    "6. Reading NASA-style Data\n",
    "7. Basic Signal and Time-Series Analysis\n",
    "8. Functions and Scripts\n",
    "9. MATLAB to Python Bridge (brief)"
   ]
  },
  {
   "cell_type": "markdown",
   "id": "32c0d7d7",
   "metadata": {},
   "source": [
    "## Getting Started with MATLAB\n",
    "- Use MATLAB Desktop or Online (MATLAB Online from MathWorks)\n",
    "- The Command Window is where you type commands interactively\n",
    "- Save scripts with `.m` extension and run them using `Run` or the command line\n",
    "- Use `clc`, `clear`, `close all` to reset state\n",
    "\n",
    "```matlab\n",
    "clc; clear; close all;\n",
    "disp('Welcome to MATLAB!')\n",
    "```"
   ]
  },
  {
   "cell_type": "markdown",
   "id": "656b5549",
   "metadata": {},
   "source": [
    "## Variables and Vectors\n",
    "```matlab\n",
    "a = 5;\n",
    "b = 3;\n",
    "c = a + b\n",
    "\n",
    "vec = [1 2 3 4];\n",
    "vec2 = 1:5;\n",
    "vec3 = linspace(0, 10, 100); %Create a vector vec3 with 100 evenly spaced values starting from 0 to 10 (inclusive).\n",
    "```"
   ]
  },
  {
   "cell_type": "markdown",
   "id": "5d0547c8",
   "metadata": {},
   "source": [
    "## Matrices and Operations\n",
    "```matlab\n",
    "A = [1 2; 3 4];      % Define a 2x2 matrix A\n",
    "B = [5 6; 7 8];      % Define a 2x2 matrix B\n",
    "\n",
    "C = A * B;           % Matrix multiplication (dot product of rows and columns)\n",
    "D = A .* B;          % Element-wise multiplication (multiply each element one-by-one)\n",
    "\n",
    "invA = inv(A);       % Compute the inverse of matrix A\n",
    "\n",
    "```"
   ]
  },
  {
   "cell_type": "markdown",
   "id": "9c38b2b7",
   "metadata": {},
   "source": [
    "## Plotting and Visualization\n",
    "```matlab\n",
    "x = 0:0.1:10;              % Create a vector x from 0 to 10 with steps of 0.1\n",
    "y = sin(x);                % Compute the sine of each x value\n",
    "\n",
    "plot(x, y);                % Plot y versus x as a 2D line plot\n",
    "title('Sine Wave');        % Add a title to the plot\n",
    "xlabel('Time (s)');        % Label the x-axis\n",
    "ylabel('Amplitude');       % Label the y-axis\n",
    "grid on;                   % Turn on the grid for better visibility\n",
    "\n",
    "```"
   ]
  },
  {
   "cell_type": "markdown",
   "id": "0fabbaab",
   "metadata": {},
   "source": [
    "## NASA-style Example: Simulated Satellite Signal\n",
    "```matlab\n",
    "fs = 1000;                          % Sampling frequency in Hz (1000 samples per second)\n",
    "t = 0:1/fs:1-1/fs;                  % Time vector from 0 to 1 second with fs samples\n",
    "\n",
    "% Simulate a noisy signal:\n",
    "signal = sin(2*pi*10*t) + 0.5*randn(size(t));\n",
    "% - A clean sine wave at 10 Hz: sin(2πft)\n",
    "% - Added random noise using randn to simulate sensor noise\n",
    "\n",
    "plot(t, signal);                   % Plot the signal over time\n",
    "title('Simulated Sensor Signal'); % Title for the plot\n",
    "xlabel('Time');                    % Label x-axis as time\n",
    "ylabel('Amplitude');              % Label y-axis as amplitude\n",
    "\n",
    "```"
   ]
  },
  {
   "cell_type": "markdown",
   "id": "1b964e06",
   "metadata": {},
   "source": [
    "## Reading .mat or .csv Data\n",
    "```matlab\n",
    "load('nasa_data.mat') % or use readmatrix('file.csv')\n",
    "whos %displays information about all variables currently in the workspace\n",
    "plot(time, temperature);\n",
    "```"
   ]
  },
  {
   "cell_type": "markdown",
   "id": "52e0a5a7",
   "metadata": {},
   "source": [
    "## Writing Functions and Scripts\n",
    "```matlab\n",
    "function out = squareNumber(x)\n",
    "    out = x^2;\n",
    "end\n",
    "\n",
    "% Call it like this:\n",
    "result = squareNumber(5);\n",
    "```"
   ]
  },
  {
   "cell_type": "markdown",
   "id": "37cf7134",
   "metadata": {},
   "source": [
    "## Satellite Image Demo\n",
    "```matlab\n",
    "img = imread('satellite.jpg');\n",
    "imshow(img);\n",
    "title('Satellite Image');\n",
    "```"
   ]
  },
  {
   "cell_type": "markdown",
   "id": "90b9ed50",
   "metadata": {},
   "source": [
    "## MATLAB to Python (Brief)\n",
    "Save `.mat` from MATLAB and load in Python:\n",
    "```matlab\n",
    "save('example.mat', 'signal', 't');\n",
    "```\n",
    "Python code to load:\n"
   ]
  },
  {
   "cell_type": "code",
   "execution_count": null,
   "id": "abbd6936",
   "metadata": {},
   "outputs": [],
   "source": [
    "from scipy.io import loadmat\n",
    "import matplotlib.pyplot as plt\n",
    "data = loadmat('example.mat')\n",
    "t = data['t'].flatten()\n",
    "signal = data['signal'].flatten()\n",
    "plt.plot(t, signal)\n",
    "plt.title('Signal from MATLAB')\n",
    "plt.show()"
   ]
  },
  {
   "cell_type": "markdown",
   "id": "1a3ad91f",
   "metadata": {},
   "source": [
    "## Summary\n",
    "- You learned MATLAB basics including vectors, plotting, and working with files\n",
    "- We simulated a NASA-like signal and visualized it\n",
    "- You saw how to bridge MATLAB and Python using `.mat` files\n",
    "\n",
    "Feel free to explore more MATLAB functions like `fft`, `filter`, `imagesc`, or `surf`!"
   ]
  }
 ],
 "metadata": {
  "kernelspec": {
   "display_name": "Python 3 (ipykernel)",
   "language": "python",
   "name": "python3"
  },
  "language_info": {
   "codemirror_mode": {
    "name": "ipython",
    "version": 3
   },
   "file_extension": ".py",
   "mimetype": "text/x-python",
   "name": "python",
   "nbconvert_exporter": "python",
   "pygments_lexer": "ipython3",
   "version": "3.11.11"
  }
 },
 "nbformat": 4,
 "nbformat_minor": 5
}
